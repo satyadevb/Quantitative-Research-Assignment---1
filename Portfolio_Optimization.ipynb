{
 "cells": [
  {
   "cell_type": "code",
   "execution_count": 4,
   "metadata": {
    "colab": {
     "base_uri": "https://localhost:8080/",
     "height": 70
    },
    "colab_type": "code",
    "id": "pRYIUS1jUiAD",
    "outputId": "182a0d2f-5d92-43f7-81cf-464bdd732203"
   },
   "outputs": [],
   "source": [
    "import numpy as np\n",
    "import cvxpy as cvx\n",
    "import pandas as pd\n",
    "from datetime import datetime\n",
    "import pandas_datareader.data as pdr"
   ]
  },
  {
   "cell_type": "markdown",
   "metadata": {
    "colab_type": "text",
    "id": "1H_b-mJ-Z5zT"
   },
   "source": [
    "## Optimization with cvxpy\n",
    "\n",
    "http://www.cvxpy.org/\n",
    "\n",
    "Practice using cvxpy to solve a simple optimization problem. Find the optimal weights on a m-asset portfolio given the covariance matrix of the returns of m-stocks . Create a function that takes in these values as arguments and returns the vector of optimal weights.\n"
   ]
  },
  {
   "cell_type": "markdown",
   "metadata": {
    "colab_type": "text",
    "id": "iL5FmiDYap6n"
   },
   "source": [
    "## Hints\n",
    "\n",
    "### x vector\n",
    "To create a vector of M variables $\\mathbf{x} = \\begin{bmatrix}\n",
    "x_1 &...& x_M\n",
    "\\end{bmatrix}\n",
    "$\n",
    "we can use `cvx.Variable(m)`\n",
    "\n",
    "### covariance matrix\n",
    "If we have $m$ stock series, the covariance matrix is an $m \\times m$ matrix containing the covariance between each pair of stocks.  We can use [numpy.cov](https://docs.scipy.org/doc/numpy/reference/generated/numpy.cov.html) to get the covariance.  We give it a 2D array in which each row is a stock series, and each column is an observation at the same period of time.\n",
    "\n",
    "The covariance matrix $\\mathbf{P} = \n",
    "\\begin{bmatrix}\n",
    "\\sigma^2_{1,1} & ... & \\sigma^2_{1,m} \\\\ \n",
    "... & ... & ...\\\\\n",
    "\\sigma_{m,1} & ... & \\sigma^2_{m,m}  \\\\\n",
    "\\end{bmatrix}$"
   ]
  },
  {
   "cell_type": "markdown",
   "metadata": {
    "colab_type": "text",
    "id": "3vjuVMVDa0Wr"
   },
   "source": [
    "### portfolio variance\n",
    "We can write the portfolio variance $\\sigma^2_p = \\mathbf{x^T} \\mathbf{P} \\mathbf{x}$\n",
    "\n",
    "Recall that the $\\mathbf{x^T} \\mathbf{P} \\mathbf{x}$ is called the quadratic form.\n",
    "We can use the cvxpy function `quad_form(x,P)` to get the quadratic form."
   ]
  },
  {
   "cell_type": "markdown",
   "metadata": {
    "colab_type": "text",
    "id": "7I57Ktg8bCxY"
   },
   "source": [
    "### optimization\n",
    "So now that we have our objective function and constraints, we can solve for the values of $\\mathbf{x}$.\n",
    "cvxpy has the constructor `Problem(objective, constraints)`, which returns a `Problem` object.\n",
    "\n",
    "The `Problem` object has a function solve(), which returns the minimum of the solution.  In this case, this is the minimum variance of the portfolio.\n",
    "\n",
    "It also updates the vector $\\mathbf{x}$.\n",
    "\n",
    "We can check out the values of vector of weights x that gave the minimum portfolio variance by using `x.value`"
   ]
  },
  {
   "cell_type": "code",
   "execution_count": 5,
   "metadata": {
    "colab": {},
    "colab_type": "code",
    "id": "nMxFv5u4ZAxf"
   },
   "outputs": [],
   "source": [
    "def optimize_portfolio(returns):\n",
    "    \"\"\"\n",
    "    Create a function that takes the return series of a set of stocks,The function \n",
    "    will minimize a combination of the portfolio variance.  \n",
    "    The optimization will be constrained to be long only, and the weights should sum to one.\n",
    "    \n",
    "    Parameters\n",
    "    ----------\n",
    "    returns : numpy.ndarray\n",
    "        2D array containing stock return series in each row.\n",
    "        \n",
    "    index_weights : numpy.ndarray\n",
    "        1D numpy array containing weights of the index.\n",
    "        \n",
    "\n",
    "        \n",
    "    Returns\n",
    "    -------\n",
    "    x : np.ndarray\n",
    "        A numpy ndarray containing the weights of the stocks in the optimized portfolio\n",
    "    \"\"\"\n",
    "    # TODO: Use cvxpy to determine the weights on the assets\n",
    "    # that minimizes the  portfolio variance \n",
    "    \n",
    "    # number of stocks m is number of rows of returns, and also number of index weights\n",
    "    \n",
    "    m = len(returns)\n",
    "    #covariance matrix of returns\n",
    "    cov = np.cov(returns)\n",
    "    \n",
    "    # x variables (to be found with optimization)\n",
    "    x = cvx.Variable(m)\n",
    "    \n",
    "    #portfolio variance, in quadratic form\n",
    "    portfolio_variance = cvx.quad_form(x,cov)    \n",
    "    \n",
    "    #objective function\n",
    "    objective = cvx.Minimize(portfolio_variance)\n",
    "    \n",
    "    #constraints\n",
    "    constraints = [x >= 0, sum(x) == 1]\n",
    "\n",
    "    #use cvxpy to solve the objective\n",
    "    prob = cvx.Problem(objective, constraints)\n",
    "    prob.solve()\n",
    "    x_values = x.value\n",
    "\n",
    "    return x_values"
   ]
  },
  {
   "cell_type": "code",
   "execution_count": 6,
   "metadata": {
    "colab": {},
    "colab_type": "code",
    "id": "D7oPVKznZAM8"
   },
   "outputs": [],
   "source": [
    "#Stock_Data_Extraction\n",
    "\n",
    "tickers = [\"ASIANPAINT.NS\",\"ADANIPORTS.NS\",\"AXISBANK.NS\",\"BAJAJ-AUTO.NS\"]\n",
    "\n",
    "start= datetime(2018,1,1)\n",
    "end = datetime.today()\n",
    "\n",
    "#Creeating a dictionary to store data for all stocks.\n",
    "ohlc_daily = {}\n",
    "for i in range(len(tickers)):\n",
    "    ohlc_daily[tickers[i]] = pdr.get_data_yahoo(tickers[i],start = start , end = end)\n",
    "\n",
    "#Creating a dataframe to store daily_returns of all stocks\n",
    "returns = pd.DataFrame()\n",
    "for ticker in tickers:\n",
    "    returns[ticker] = (ohlc_daily[ticker]['Adj Close'].pct_change())\n",
    "returns = returns.dropna(axis=0)\n",
    "\n",
    "#Applying Optimization function to get min_variance_weights\n",
    "min_var_weights = optimize_portfolio(returns.T)\n",
    "# print(min_var_weights)"
   ]
  },
  {
   "cell_type": "code",
   "execution_count": 0,
   "metadata": {
    "colab": {},
    "colab_type": "code",
    "id": "DZ-Z8Glal3b8"
   },
   "outputs": [],
   "source": []
  }
 ],
 "metadata": {
  "colab": {
   "collapsed_sections": [],
   "name": "Portfolio_Optimization.ipynb",
   "provenance": []
  },
  "kernelspec": {
   "display_name": "Python 3",
   "language": "python",
   "name": "python3"
  },
  "language_info": {
   "codemirror_mode": {
    "name": "ipython",
    "version": 3
   },
   "file_extension": ".py",
   "mimetype": "text/x-python",
   "name": "python",
   "nbconvert_exporter": "python",
   "pygments_lexer": "ipython3",
   "version": "3.7.3"
  }
 },
 "nbformat": 4,
 "nbformat_minor": 1
}
